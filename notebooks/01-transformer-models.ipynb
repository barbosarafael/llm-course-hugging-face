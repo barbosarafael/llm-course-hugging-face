{
 "cells": [
  {
   "cell_type": "markdown",
   "metadata": {},
   "source": [
    "# 1. Transformer models"
   ]
  },
  {
   "cell_type": "markdown",
   "metadata": {},
   "source": [
    "## Natural Language Processing (NLP) and Large Language Models (LLMs)\n",
    "\n",
    "- NLP\n",
    "  - Focused on understanding related to the human language\n",
    "  - Understand the context\n",
    "  - Indentify the grammaticam components\n",
    "- LLMs\n",
    "  - AI model trained on large text datasets, like a books, newspapers, etc\n",
    "  - \"Advanced NLP\"\n",
    "- LLM problems\n",
    "  - Hallucinations: generating things that do not exist\n",
    "  - Bias: generating things that are only in the documents/data that the model was trained on\n",
    "  - Context windows: the data that the model has access to is limited. Old models: 4K tokens. New models: 128K tokens"
   ]
  },
  {
   "cell_type": "markdown",
   "metadata": {},
   "source": [
    "## Transformers, what can they do?\n",
    "\n",
    "- NLP, computer vision, audio processing\n",
    "- Created in 2017\n",
    "- Attention is all you need: https://arxiv.org/pdf/1706.03762\n",
    "- Self-attention: focus on relevant parts of the input\n",
    "\n",
    "### Examples\n",
    "\n",
    "- Pipeline: sentiment analysis\n",
    "- Pre-trained model, fine-tuned to sentiment analysis in English"
   ]
  },
  {
   "cell_type": "code",
   "execution_count": 1,
   "metadata": {},
   "outputs": [
    {
     "name": "stderr",
     "output_type": "stream",
     "text": [
      "/home/rafael/Documentos/github/llm-course-hugging-face/venv/lib/python3.10/site-packages/tqdm/auto.py:21: TqdmWarning: IProgress not found. Please update jupyter and ipywidgets. See https://ipywidgets.readthedocs.io/en/stable/user_install.html\n",
      "  from .autonotebook import tqdm as notebook_tqdm\n",
      "No model was supplied, defaulted to distilbert/distilbert-base-uncased-finetuned-sst-2-english and revision 714eb0f (https://huggingface.co/distilbert/distilbert-base-uncased-finetuned-sst-2-english).\n",
      "Using a pipeline without specifying a model name and revision in production is not recommended.\n",
      "Device set to use cpu\n"
     ]
    },
    {
     "name": "stdout",
     "output_type": "stream",
     "text": [
      "[{'label': 'POSITIVE', 'score': 0.9598050713539124}]\n"
     ]
    }
   ],
   "source": [
    "from transformers import pipeline\n",
    "\n",
    "classifier = pipeline(\"sentiment-analysis\", device = -1)\n",
    "result = classifier(\"I've been waiting for a HuggingFace course my whole life.\")\n",
    "print(result)"
   ]
  },
  {
   "cell_type": "code",
   "execution_count": 2,
   "metadata": {},
   "outputs": [
    {
     "name": "stdout",
     "output_type": "stream",
     "text": [
      "True\n",
      "NVIDIA GeForce RTX 2060\n"
     ]
    }
   ],
   "source": [
    "import torch\n",
    "\n",
    "print(torch.cuda.is_available())\n",
    "print(torch.cuda.get_device_name(0))"
   ]
  },
  {
   "cell_type": "markdown",
   "metadata": {},
   "source": [
    "### Zero-shot classification\n",
    "\n",
    "- Text haven't been labelled before"
   ]
  },
  {
   "cell_type": "code",
   "execution_count": null,
   "metadata": {},
   "outputs": [
    {
     "name": "stderr",
     "output_type": "stream",
     "text": [
      "No model was supplied, defaulted to facebook/bart-large-mnli and revision d7645e1 (https://huggingface.co/facebook/bart-large-mnli).\n",
      "Using a pipeline without specifying a model name and revision in production is not recommended.\n"
     ]
    }
   ],
   "source": [
    "classifier = pipeline(\"zero-shot-classification\", device = -1)\n",
    "classifier(\n",
    "    \"This is a course about the Transformers library\",\n",
    "    candidate_labels=[\"education\", \"politics\", \"business\"],\n",
    ")"
   ]
  },
  {
   "cell_type": "markdown",
   "metadata": {},
   "source": [
    "### Text generation"
   ]
  },
  {
   "cell_type": "code",
   "execution_count": null,
   "metadata": {},
   "outputs": [
    {
     "name": "stderr",
     "output_type": "stream",
     "text": [
      "No model was supplied, defaulted to openai-community/gpt2 and revision 607a30d (https://huggingface.co/openai-community/gpt2).\n",
      "Using a pipeline without specifying a model name and revision in production is not recommended.\n",
      "Device set to use cpu\n",
      "Setting `pad_token_id` to `eos_token_id`:50256 for open-end generation.\n"
     ]
    },
    {
     "data": {
      "text/plain": [
       "[{'generated_text': \"In this course, we will teach you how to use the new PUSH feature, how to create a new project, and how to get a working PUSH project to work.\\n\\nPlease note that the following section will not be required, but will be helpful for newcomers. You will also learn how to create projects using PUSH.\\n\\nThe first time you build to a new PUSH project, you have to change your PUSH configuration to get the new project to work properly. This is done by changing your PUSH configuration in the following way:\\n\\nMake sure that the project you are working on is called 'My Project'.\\n\\nMake sure that you have a list of all projects that you want to build from.\\n\\nCreate a new PUSH project.\\n\\nBuild the new project using the following command:\\n\\npushing\\n\\nCreate a new PUSH project using the following command:\\n\\npushing\\n\\nThe previous step is to create a new PUSH project with your project name. In this case, we will create the PUSH project in /Users/yourusername/projects.\\n\\nNow, we will build a new PUSH project using the following commands:\\n\\nPushing\\n\\nPushing the project will create a new PUSH project from your project name\"}]"
      ]
     },
     "execution_count": 4,
     "metadata": {},
     "output_type": "execute_result"
    }
   ],
   "source": [
    "generator = pipeline(\"text-generation\", device = -1)\n",
    "generator(\"In this course, we will teach you how to\")"
   ]
  },
  {
   "cell_type": "code",
   "execution_count": null,
   "metadata": {},
   "outputs": [
    {
     "name": "stderr",
     "output_type": "stream",
     "text": [
      "Device set to use cpu\n",
      "Truncation was not explicitly activated but `max_length` is provided a specific value, please use `truncation=True` to explicitly truncate examples to max length. Defaulting to 'longest_first' truncation strategy. If you encode pairs of sequences (GLUE-style) with the tokenizer you can select this strategy more precisely by providing a specific strategy to `truncation`.\n",
      "Setting `pad_token_id` to `eos_token_id`:0 for open-end generation.\n",
      "Both `max_new_tokens` (=256) and `max_length`(=30) seem to have been set. `max_new_tokens` will take precedence. Please refer to the documentation for more information. (https://huggingface.co/docs/transformers/main/en/main_classes/text_generation)\n"
     ]
    },
    {
     "data": {
      "text/plain": [
       "[{'generated_text': 'In this course, we will teach you how to build your own robot to help around the house. You will learn how to use a robot controller to navigate through your house, and how to use a controller to move the robot around the house. This course will also teach you how to use a robot to play games and how to control it using an iOS app.\\n\\nYou will learn how to use an Arduino microcontroller board and how to program it to control the robot. You will learn how to use Python and C++ to program the robot. You will learn how to use an ultrasonic sensor to detect obstacles and how to use a motor to move the robot. You will learn how to use a computer vision library to detect obstacles and use it to navigate around the house.\\n\\nYou will also learn how to use the internet to control the robot from a remote location, and how to use a website to control the robot from your computer. You will also learn how to use an Android app to control the robot from your phone.\\n\\nYou will learn how to use an Android app to control the robot from your Android phone. You will learn how to use an iOS app to control the robot from your iOS device. You will learn how to use an Android app to control the robot from your Android phone.\\n\\nYou'},\n",
       " {'generated_text': 'In this course, we will teach you how to be a programmer. You will be able to learn the programming language, and you will be able to start developing your own application. This course will also give you a background in computer science, which will be useful for the future.\\n\\nIn the first part of the course, you will learn how to program in C++. You will learn the basics of the programming language, such as loops, conditionals, and functions. You will also learn how to create your own programs.\\n\\nIn the second part of the course, you will learn how to program in Java. You will learn the fundamentals of the programming language, such as variables, operations, and arrays. You will also learn how to create your own programs.\\n\\nIn the third part of the course, you will learn how to program in Python. You will learn the fundamentals of the programming language, such as variables, conditions, and functions. You will also learn how to create your own programs.\\n\\nIn the fourth part of the course, you will learn how to program in Ruby. You will learn the fundamentals of the programming language, such as variables, operations, and arrays. You will also learn how to create your own programs.\\n\\nIn the fifth part of the course, you will'}]"
      ]
     },
     "execution_count": 5,
     "metadata": {},
     "output_type": "execute_result"
    }
   ],
   "source": [
    "from transformers import pipeline\n",
    "\n",
    "generator = pipeline(\"text-generation\", model=\"HuggingFaceTB/SmolLM2-360M\", device = -1)\n",
    "generator(\n",
    "    \"In this course, we will teach you how to\",\n",
    "    max_length=30,\n",
    "    num_return_sequences=2,\n",
    ")"
   ]
  },
  {
   "cell_type": "markdown",
   "metadata": {},
   "source": [
    "### Mask filling\n",
    "\n",
    "Fill a specific word in a sentence, given by `<mask>`\n",
    "\n",
    "- Score: probability \n",
    "- Token: id of the word\n",
    "- Token_str: word itself\n",
    "- Sequence: the entire sentence with the word filled"
   ]
  },
  {
   "cell_type": "code",
   "execution_count": null,
   "metadata": {},
   "outputs": [
    {
     "name": "stderr",
     "output_type": "stream",
     "text": [
      "No model was supplied, defaulted to distilbert/distilroberta-base and revision fb53ab8 (https://huggingface.co/distilbert/distilroberta-base).\n",
      "Using a pipeline without specifying a model name and revision in production is not recommended.\n",
      "Some weights of the model checkpoint at distilbert/distilroberta-base were not used when initializing RobertaForMaskedLM: ['roberta.pooler.dense.bias', 'roberta.pooler.dense.weight']\n",
      "- This IS expected if you are initializing RobertaForMaskedLM from the checkpoint of a model trained on another task or with another architecture (e.g. initializing a BertForSequenceClassification model from a BertForPreTraining model).\n",
      "- This IS NOT expected if you are initializing RobertaForMaskedLM from the checkpoint of a model that you expect to be exactly identical (initializing a BertForSequenceClassification model from a BertForSequenceClassification model).\n",
      "Device set to use cpu\n"
     ]
    },
    {
     "data": {
      "text/plain": [
       "[{'score': 0.19619743525981903,\n",
       "  'token': 30412,\n",
       "  'token_str': ' mathematical',\n",
       "  'sequence': 'This course will teach you all about mathematical models.'},\n",
       " {'score': 0.04052726551890373,\n",
       "  'token': 38163,\n",
       "  'token_str': ' computational',\n",
       "  'sequence': 'This course will teach you all about computational models.'}]"
      ]
     },
     "execution_count": 6,
     "metadata": {},
     "output_type": "execute_result"
    }
   ],
   "source": [
    "unmasker = pipeline(\"fill-mask\", device = -1)\n",
    "\n",
    "unmasker(\"This course will teach you all about <mask> models.\", top_k=2)"
   ]
  },
  {
   "cell_type": "markdown",
   "metadata": {},
   "source": [
    "### Named entity recognition (NER)\n",
    "\n",
    "- Indentify entities in text\n",
    "  - Person, location, organization, dates, values, etc\n",
    "- Examples:\n",
    "  - PER → Pessoa\n",
    "  - ORG → Organização\n",
    "  - LOC → Localidade geopolítica\n",
    "  - DATE → Datas\n",
    "  - TIME → Horas\n",
    "  - MONEY → Valores monetários\n",
    "  - PERCENT → Percentuais\n",
    "- Steps\n",
    "  - Pre-processing\n",
    "  - NLP model\n",
    "  - Classification\n",
    "    - Exemplo:\n",
    "      - \"Steve\" → Beginning-PER\n",
    "      - \"Jobs\" → Inside-PER\n",
    "      - \"Apple\" → Beginning-ORG"
   ]
  },
  {
   "cell_type": "code",
   "execution_count": null,
   "metadata": {},
   "outputs": [
    {
     "name": "stderr",
     "output_type": "stream",
     "text": [
      "No model was supplied, defaulted to dbmdz/bert-large-cased-finetuned-conll03-english and revision 4c53496 (https://huggingface.co/dbmdz/bert-large-cased-finetuned-conll03-english).\n",
      "Using a pipeline without specifying a model name and revision in production is not recommended.\n",
      "Some weights of the model checkpoint at dbmdz/bert-large-cased-finetuned-conll03-english were not used when initializing BertForTokenClassification: ['bert.pooler.dense.bias', 'bert.pooler.dense.weight']\n",
      "- This IS expected if you are initializing BertForTokenClassification from the checkpoint of a model trained on another task or with another architecture (e.g. initializing a BertForSequenceClassification model from a BertForPreTraining model).\n",
      "- This IS NOT expected if you are initializing BertForTokenClassification from the checkpoint of a model that you expect to be exactly identical (initializing a BertForSequenceClassification model from a BertForSequenceClassification model).\n",
      "Device set to use cpu\n",
      "/home/rafael/Documentos/github/llm-course-hugging-face/venv/lib/python3.10/site-packages/transformers/pipelines/token_classification.py:186: UserWarning: `grouped_entities` is deprecated and will be removed in version v5.0.0, defaulted to `aggregation_strategy=\"simple\"` instead.\n",
      "  warnings.warn(\n"
     ]
    },
    {
     "data": {
      "text/plain": [
       "[{'entity_group': 'PER',\n",
       "  'score': np.float32(0.9981694),\n",
       "  'word': 'Sylvain',\n",
       "  'start': 11,\n",
       "  'end': 18},\n",
       " {'entity_group': 'ORG',\n",
       "  'score': np.float32(0.9796019),\n",
       "  'word': 'Hugging Face',\n",
       "  'start': 33,\n",
       "  'end': 45},\n",
       " {'entity_group': 'LOC',\n",
       "  'score': np.float32(0.9932106),\n",
       "  'word': 'Brooklyn',\n",
       "  'start': 49,\n",
       "  'end': 57}]"
      ]
     },
     "execution_count": 7,
     "metadata": {},
     "output_type": "execute_result"
    }
   ],
   "source": [
    "ner = pipeline(\"ner\", grouped_entities=True, device = -1)\n",
    "\n",
    "ner(\"My name is Sylvain and I work at Hugging Face in Brooklyn.\")"
   ]
  },
  {
   "cell_type": "code",
   "execution_count": null,
   "metadata": {},
   "outputs": [
    {
     "name": "stderr",
     "output_type": "stream",
     "text": [
      "No model was supplied, defaulted to dbmdz/bert-large-cased-finetuned-conll03-english and revision 4c53496 (https://huggingface.co/dbmdz/bert-large-cased-finetuned-conll03-english).\n",
      "Using a pipeline without specifying a model name and revision in production is not recommended.\n",
      "Some weights of the model checkpoint at dbmdz/bert-large-cased-finetuned-conll03-english were not used when initializing BertForTokenClassification: ['bert.pooler.dense.bias', 'bert.pooler.dense.weight']\n",
      "- This IS expected if you are initializing BertForTokenClassification from the checkpoint of a model trained on another task or with another architecture (e.g. initializing a BertForSequenceClassification model from a BertForPreTraining model).\n",
      "- This IS NOT expected if you are initializing BertForTokenClassification from the checkpoint of a model that you expect to be exactly identical (initializing a BertForSequenceClassification model from a BertForSequenceClassification model).\n",
      "Device set to use cpu\n",
      "/home/rafael/Documentos/github/llm-course-hugging-face/venv/lib/python3.10/site-packages/transformers/pipelines/token_classification.py:186: UserWarning: `grouped_entities` is deprecated and will be removed in version v5.0.0, defaulted to `aggregation_strategy=\"none\"` instead.\n",
      "  warnings.warn(\n"
     ]
    },
    {
     "data": {
      "text/plain": [
       "[{'entity': 'I-PER',\n",
       "  'score': np.float32(0.99938285),\n",
       "  'index': 4,\n",
       "  'word': 'S',\n",
       "  'start': 11,\n",
       "  'end': 12},\n",
       " {'entity': 'I-PER',\n",
       "  'score': np.float32(0.99815494),\n",
       "  'index': 5,\n",
       "  'word': '##yl',\n",
       "  'start': 12,\n",
       "  'end': 14},\n",
       " {'entity': 'I-PER',\n",
       "  'score': np.float32(0.99590707),\n",
       "  'index': 6,\n",
       "  'word': '##va',\n",
       "  'start': 14,\n",
       "  'end': 16},\n",
       " {'entity': 'I-PER',\n",
       "  'score': np.float32(0.99923277),\n",
       "  'index': 7,\n",
       "  'word': '##in',\n",
       "  'start': 16,\n",
       "  'end': 18},\n",
       " {'entity': 'I-ORG',\n",
       "  'score': np.float32(0.9738931),\n",
       "  'index': 12,\n",
       "  'word': 'Hu',\n",
       "  'start': 33,\n",
       "  'end': 35},\n",
       " {'entity': 'I-ORG',\n",
       "  'score': np.float32(0.976115),\n",
       "  'index': 13,\n",
       "  'word': '##gging',\n",
       "  'start': 35,\n",
       "  'end': 40},\n",
       " {'entity': 'I-ORG',\n",
       "  'score': np.float32(0.9887976),\n",
       "  'index': 14,\n",
       "  'word': 'Face',\n",
       "  'start': 41,\n",
       "  'end': 45},\n",
       " {'entity': 'I-LOC',\n",
       "  'score': np.float32(0.9932106),\n",
       "  'index': 16,\n",
       "  'word': 'Brooklyn',\n",
       "  'start': 49,\n",
       "  'end': 57}]"
      ]
     },
     "execution_count": 8,
     "metadata": {},
     "output_type": "execute_result"
    }
   ],
   "source": [
    "ner = pipeline(\"ner\", grouped_entities=False, device = -1)\n",
    "\n",
    "ner(\"My name is Sylvain and I work at Hugging Face in Brooklyn.\")"
   ]
  },
  {
   "cell_type": "markdown",
   "metadata": {},
   "source": [
    "### Question Answering"
   ]
  },
  {
   "cell_type": "code",
   "execution_count": null,
   "metadata": {},
   "outputs": [
    {
     "name": "stderr",
     "output_type": "stream",
     "text": [
      "No model was supplied, defaulted to distilbert/distilbert-base-cased-distilled-squad and revision 564e9b5 (https://huggingface.co/distilbert/distilbert-base-cased-distilled-squad).\n",
      "Using a pipeline without specifying a model name and revision in production is not recommended.\n",
      "Fetching 0 files: 0it [00:00, ?it/s]\n",
      "Fetching 1 files: 100%|██████████| 1/1 [00:00<00:00, 13357.66it/s]\n",
      "Fetching 0 files: 0it [00:00, ?it/s]\n",
      "Device set to use cpu\n"
     ]
    },
    {
     "data": {
      "text/plain": [
       "{'score': 0.6949769854545593, 'start': 33, 'end': 45, 'answer': 'Hugging Face'}"
      ]
     },
     "execution_count": 9,
     "metadata": {},
     "output_type": "execute_result"
    }
   ],
   "source": [
    "# Doesn't work without the context parameter\n",
    "\n",
    "question_answerer = pipeline(\"question-answering\", device = -1)\n",
    "\n",
    "question_answerer(\n",
    "    question=\"Where do I work?\",\n",
    "    context=\"My name is Sylvain and I work at Hugging Face in Brooklyn\",\n",
    ")"
   ]
  },
  {
   "cell_type": "markdown",
   "metadata": {},
   "source": [
    "### Summarization"
   ]
  },
  {
   "cell_type": "code",
   "execution_count": null,
   "metadata": {},
   "outputs": [
    {
     "name": "stderr",
     "output_type": "stream",
     "text": [
      "No model was supplied, defaulted to sshleifer/distilbart-cnn-12-6 and revision a4f8f3e (https://huggingface.co/sshleifer/distilbart-cnn-12-6).\n",
      "Using a pipeline without specifying a model name and revision in production is not recommended.\n",
      "Device set to use cpu\n"
     ]
    },
    {
     "data": {
      "text/plain": [
       "[{'summary_text': ' America has changed dramatically during recent years . The number of engineering graduates in the U.S. has declined in traditional engineering disciplines such as mechanical, civil,    electrical, chemical, and aeronautical engineering . Rapidly developing economies such as China and India continue to encourage and advance the teaching of engineering .'}]"
      ]
     },
     "execution_count": 10,
     "metadata": {},
     "output_type": "execute_result"
    }
   ],
   "source": [
    "summarizer = pipeline(\"summarization\", device = -1)\n",
    "summarizer(\n",
    "    \"\"\"\n",
    "    America has changed dramatically during recent years. Not only has the number of \n",
    "    graduates in traditional engineering disciplines such as mechanical, civil, \n",
    "    electrical, chemical, and aeronautical engineering declined, but in most of \n",
    "    the premier American universities engineering curricula now concentrate on \n",
    "    and encourage largely the study of engineering science. As a result, there \n",
    "    are declining offerings in engineering subjects dealing with infrastructure, \n",
    "    the environment, and related issues, and greater concentration on high \n",
    "    technology subjects, largely supporting increasingly complex scientific \n",
    "    developments. While the latter is important, it should not be at the expense \n",
    "    of more traditional engineering.\n",
    "\n",
    "    Rapidly developing economies such as China and India, as well as other \n",
    "    industrial countries in Europe and Asia, continue to encourage and advance \n",
    "    the teaching of engineering. Both China and India, respectively, graduate \n",
    "    six and eight times as many traditional engineers as does the United States. \n",
    "    Other industrial countries at minimum maintain their output, while America \n",
    "    suffers an increasingly serious decline in the number of engineering graduates \n",
    "    and a lack of well-educated engineers.\n",
    "\"\"\"\n",
    ")"
   ]
  },
  {
   "cell_type": "markdown",
   "metadata": {},
   "source": [
    "### Translation"
   ]
  },
  {
   "cell_type": "code",
   "execution_count": null,
   "metadata": {},
   "outputs": [
    {
     "name": "stderr",
     "output_type": "stream",
     "text": [
      "/home/rafael/Documentos/github/llm-course-hugging-face/venv/lib/python3.10/site-packages/transformers/models/marian/tokenization_marian.py:175: UserWarning: Recommended: pip install sacremoses.\n",
      "  warnings.warn(\"Recommended: pip install sacremoses.\")\n",
      "Device set to use cpu\n"
     ]
    },
    {
     "data": {
      "text/plain": [
       "[{'translation_text': 'This course is produced by Hugging Face.'}]"
      ]
     },
     "execution_count": 11,
     "metadata": {},
     "output_type": "execute_result"
    }
   ],
   "source": [
    "translator = pipeline(\"translation\", model=\"Helsinki-NLP/opus-mt-fr-en\", device = -1)\n",
    "translator(\"Ce cours est produit par Hugging Face.\")"
   ]
  },
  {
   "cell_type": "markdown",
   "metadata": {},
   "source": [
    "### Image classification"
   ]
  },
  {
   "cell_type": "code",
   "execution_count": null,
   "metadata": {},
   "outputs": [
    {
     "name": "stderr",
     "output_type": "stream",
     "text": [
      "Fetching 1 files: 100%|██████████| 1/1 [00:00<00:00, 13486.51it/s]\n",
      "Fetching 1 files: 100%|██████████| 1/1 [00:00<00:00, 14926.35it/s]\n",
      "Device set to use cpu\n"
     ]
    },
    {
     "name": "stdout",
     "output_type": "stream",
     "text": [
      "[{'label': 'lynx, catamount', 'score': 0.4334997534751892}, {'label': 'cougar, puma, catamount, mountain lion, painter, panther, Felis concolor', 'score': 0.03479616343975067}, {'label': 'snow leopard, ounce, Panthera uncia', 'score': 0.032401930540800095}, {'label': 'Egyptian cat', 'score': 0.023944787681102753}, {'label': 'tiger cat', 'score': 0.02288924530148506}]\n"
     ]
    }
   ],
   "source": [
    "image_classifier = pipeline(\n",
    "    task=\"image-classification\", model=\"google/vit-base-patch16-224\", \n",
    "    device = -1\n",
    ")\n",
    "result = image_classifier(\n",
    "    \"https://huggingface.co/datasets/huggingface/documentation-images/resolve/main/pipeline-cat-chonk.jpeg\"\n",
    ")\n",
    "print(result)"
   ]
  },
  {
   "cell_type": "markdown",
   "metadata": {},
   "source": [
    "### Automatic speech recognition"
   ]
  },
  {
   "cell_type": "code",
   "execution_count": null,
   "metadata": {},
   "outputs": [
    {
     "name": "stderr",
     "output_type": "stream",
     "text": [
      "Fetching 1 files: 100%|██████████| 1/1 [00:00<00:00,  1.84it/s]\n",
      "Device set to use cpu\n",
      "`return_token_timestamps` is deprecated for WhisperFeatureExtractor and will be removed in Transformers v5. Use `return_attention_mask` instead, as the number of frames can be inferred from it.\n",
      "Using custom `forced_decoder_ids` from the (generation) config. This is deprecated in favor of the `task` and `language` flags/config options.\n",
      "Transcription using a multilingual Whisper will default to language detection followed by transcription instead of translation to English. This might be a breaking change for your use case. If you want to instead always translate your audio to English, make sure to pass `language='en'`. See https://github.com/huggingface/transformers/pull/28687 for more details.\n"
     ]
    },
    {
     "name": "stdout",
     "output_type": "stream",
     "text": [
      " I have a dream that one day this nation will rise up and live out the true meaning of its creed.\n"
     ]
    }
   ],
   "source": [
    "transcriber = pipeline(\n",
    "    task=\"automatic-speech-recognition\",\n",
    "    model=\"openai/whisper-large\",  # <- modelo suportado\n",
    "    device=-1  # CPU\n",
    ")\n",
    "\n",
    "result = transcriber(\n",
    "    \"https://huggingface.co/datasets/Narsil/asr_dummy/resolve/main/mlk.flac\"\n",
    ")\n",
    "print(result[\"text\"])\n"
   ]
  },
  {
   "cell_type": "markdown",
   "metadata": {},
   "source": [
    "## How do transformers work?\n",
    "\n",
    "- Substitution of LSTM and RNN for translate tasks \n",
    "- Self-attention mechanism: focus on relevant parts of the input\n",
    "  - Capture dependencies between words\n",
    "  - Measure of the similarity between all the words of the input\n",
    "- Base to BERT, GPT, T5, etc"
   ]
  },
  {
   "cell_type": "markdown",
   "metadata": {},
   "source": [
    "### Transformers are language models\n",
    "\n",
    "- Self-supervised learning: don't depends of a human annotator\n",
    "- For a specific tasks, you can use transfer learning or fine-tuning\n",
    "- Big models: by models"
   ]
  },
  {
   "cell_type": "markdown",
   "metadata": {},
   "source": [
    "# How Transformers solve tasks\n",
    "\n",
    "## Transformer mdeols for language\n",
    "\n",
    "- Modern NLP\n",
    "- Trained to predict the probability of a word given the context of the sentence\n",
    "- Masked Language Modeling (MLM): Randomly amsks some tokens in the inputs and trains the model to predct the original tokens\n",
    "- Causal language modeling (CLM): Used by decoder models like GPT, this approach predicts the next token based on all previous tokens in the sequence. The model can only use context from the left (previous tokens) to predict the next token ([Hugging Face](https://huggingface.co/learn/llm-course/chapter1/5?fw=pt#how-language-models-work))\n",
    "\n",
    "## Types of language models\n",
    "\n",
    "- Encoders-only-models (BERT): good for tasks that require understanding of the input, like named entity recognition\n",
    "- Decoders-only-models (GPT): good for tasks that require generating output, like text generation\n",
    "- Encoder-decoder (T5) and sequence-to-sequence models: good for tasks that require understanding of the input and generating output, like translation and summarization\n",
    "\n",
    "## Text generation\n",
    "\n",
    "- GPT-2 is a decoder-only model\n",
    "- Byte pair encoding (BPT) to tokenize words\n",
    "- GPT-2 is a causal language modeling (CLM)"
   ]
  },
  {
   "cell_type": "code",
   "execution_count": null,
   "metadata": {},
   "outputs": [
    {
     "data": {
      "application/vnd.jupyter.widget-view+json": {
       "model_id": "e6bd164a6bee4eac8f0a2cdcd757bcb3",
       "version_major": 2,
       "version_minor": 0
      },
      "text/plain": [
       "VBox(children=(HTML(value='<center> <img\\nsrc=https://huggingface.co/front/assets/huggingface_logo-noborder.sv…"
      ]
     },
     "metadata": {},
     "output_type": "display_data"
    }
   ],
   "source": [
    "# %pip install transformers datasets evaluate ipywidgets\n",
    "\n",
    "from huggingface_hub import notebook_login\n",
    "\n",
    "notebook_login()"
   ]
  },
  {
   "cell_type": "code",
   "execution_count": 1,
   "metadata": {},
   "outputs": [],
   "source": [
    "from datasets import load_dataset\n",
    "\n",
    "eli5 = load_dataset(\"dany0407/eli5_category\", split=\"train[:5000]\")"
   ]
  },
  {
   "cell_type": "code",
   "execution_count": 2,
   "metadata": {},
   "outputs": [],
   "source": [
    "eli5 = eli5.train_test_split(test_size=0.2)"
   ]
  },
  {
   "cell_type": "code",
   "execution_count": 3,
   "metadata": {},
   "outputs": [
    {
     "data": {
      "text/plain": [
       "{'q_id': '783xe1',\n",
       " 'title': 'why does sugar turn brown when melted?',\n",
       " 'selftext': '',\n",
       " 'category': 'Chemistry',\n",
       " 'subreddit': 'explainlikeimfive',\n",
       " 'answers': {'a_id': ['doqwk5f',\n",
       "   'dorh446',\n",
       "   'dorbyzc',\n",
       "   'dora36x',\n",
       "   'dormdig',\n",
       "   'dorjsbr',\n",
       "   'dorjiib',\n",
       "   'doreq1x'],\n",
       "  'text': ['Sugar is a molecule made of a particular arrangement of carbon, oxygen, and hydrogen atoms. When you heat up the sugar, this adds energy to the system that can be used to fuel chemical reactions that rearrange the bonds between these atoms. Some of these compounds are dark brown in color and add caramel flavors to the sugar. Similar reactions occur in meat when you cook it and get a tasty brown crust.',\n",
       "   \"It turns brown because of [caramelization]( URL_0 ). Now, caramelization in itself is a poorly understood process, but we know a few things about it. It is, simply put, the degradation of sugars under heat. Now, these sugars break up into simpler sugars, dehydrate, fragment into aldehydes and ketones, polymerise and undergo several other reactions. Don't concern yourself with the details of the reactions unless you want to - just understand that there are many reactions simultaneously occuring at that temperature. For the compounds we are interested in, we can broadly separate them into two categories - volatile compounds and polymers. (It's a lot more complex than this but these are the two important classes). * Volatile compounds like [diacetyl]( URL_2 ), [Hydroxymethylfurfural]( URL_1 ) etc. are released which gives caramel its characteristic smell/flavour. * The polymers (30+ carbon atoms/molecule) formed are grouped into three classes: Caramelans, Caramelens and Caramelins. They contribute to the brown colour of caramel. Clearing out some misconceptions 1. Caramelization is not the same as the Maillard reaction (browning of bread, meat etc). *The Maillard reaction requires amino acids to react with sugars, whereas caramelization does not* (it is simply the degradation of sugars with heat). They both involve browning and can occur simultaneously, on the same food base, and with similar results on the taste buds, so they are quite easily confused. 2. It is not brown because of carbon. That sort of burning requires a much higher temperature than the caramelization reaction. If you try to caramelize on too high a flame, you will see it turning black and tasting charred. That is carbon (see pyrolysis/carbonization for such reactions).\",\n",
       "   \"It's worth mentioning that it is possible to melt sugar with it remaining clear, but it is difficult because it so readily burns.\",\n",
       "   'I had a lab report due on the Maillard reaction at 11:59. It’s because of what everyone else said. Monosaccharide sugars respond quicker than di/poly- saccharides and the reaction increases speed with increased temperature and or increased pH to make it more a more aqueous or basic environment. It’s a non enzymatic browning reaction that occurs between a reducing sugar and an amino acid with heating/ etc. ketones work better than aldoses because they are more inclined to release positive aromatic compounds while aldoses such as Xylose release compounds that smell like dirty socks.',\n",
       "   \"A lot of whack answers in here and misinformation. First off, it has nothing to do with the Maillard reaction so ignore all those. ELI5: Think of sugar like a pyramid of Lego bricks, you start heating them up in a frying pan and start by breaking them into single bricks, this is your melted sugar. As you keep heating, your going to start melting some of your bricks that are touching the frying pan. Clearly these melted Lego bricks aren't going fit back together, maybe you can get a few together but you can't stack them like you could before and some of them might start melting together, these are your browning products and flavors in your sugar (caramelisation). If you keep heating your eventually going to burn your Lego, turning it black (pyrolysis).\",\n",
       "   \"Don't all things go brown/golden when heated.. Then black when they burn..?\",\n",
       "   'Sugar is part of a type of molecules known as carbohydrates. At a very simplistic level carbohydrates are carbon atoms with waters around them with the generic formula (CH2O)x. For sugar x is 12 but that is not important. What is important is that if you heat sugar enough, you eliminate water molecules (think of it as boiling) and you are left with just carbon atoms (basically coal). Between coal and sugar, there are various levels of dehydration, so you go from colorless/white to black. In between you have yellow and brown, depending on how much dehydration you did.',\n",
       "   \"As others have said there are some reactions that occur to make it brown, however there are many compounds that I work with which are nice white crystals when solids but are yellow or brown oils when liquids so a change in color doesn't necessarily mean a chemical reaction.\"],\n",
       "  'score': [3279, 174, 98, 23, 13, 8, 4, 3],\n",
       "  'text_urls': [[],\n",
       "   ['https://en.wikipedia.org/wiki/Caramelization',\n",
       "    'https://en.wikipedia.org/wiki/Hydroxymethylfurfural',\n",
       "    'https://en.wikipedia.org/wiki/Diacetyl'],\n",
       "   [],\n",
       "   [],\n",
       "   [],\n",
       "   [],\n",
       "   [],\n",
       "   []]},\n",
       " 'title_urls': ['url'],\n",
       " 'selftext_urls': ['url']}"
      ]
     },
     "execution_count": 3,
     "metadata": {},
     "output_type": "execute_result"
    }
   ],
   "source": [
    "eli5[\"train\"][0]"
   ]
  },
  {
   "cell_type": "code",
   "execution_count": 4,
   "metadata": {},
   "outputs": [],
   "source": [
    "from transformers import AutoTokenizer\n",
    "\n",
    "tokenizer = AutoTokenizer.from_pretrained(\"distilbert/distilgpt2\")"
   ]
  },
  {
   "cell_type": "code",
   "execution_count": 5,
   "metadata": {},
   "outputs": [
    {
     "data": {
      "text/plain": [
       "{'q_id': '783xe1',\n",
       " 'title': 'why does sugar turn brown when melted?',\n",
       " 'selftext': '',\n",
       " 'category': 'Chemistry',\n",
       " 'subreddit': 'explainlikeimfive',\n",
       " 'answers.a_id': ['doqwk5f',\n",
       "  'dorh446',\n",
       "  'dorbyzc',\n",
       "  'dora36x',\n",
       "  'dormdig',\n",
       "  'dorjsbr',\n",
       "  'dorjiib',\n",
       "  'doreq1x'],\n",
       " 'answers.text': ['Sugar is a molecule made of a particular arrangement of carbon, oxygen, and hydrogen atoms. When you heat up the sugar, this adds energy to the system that can be used to fuel chemical reactions that rearrange the bonds between these atoms. Some of these compounds are dark brown in color and add caramel flavors to the sugar. Similar reactions occur in meat when you cook it and get a tasty brown crust.',\n",
       "  \"It turns brown because of [caramelization]( URL_0 ). Now, caramelization in itself is a poorly understood process, but we know a few things about it. It is, simply put, the degradation of sugars under heat. Now, these sugars break up into simpler sugars, dehydrate, fragment into aldehydes and ketones, polymerise and undergo several other reactions. Don't concern yourself with the details of the reactions unless you want to - just understand that there are many reactions simultaneously occuring at that temperature. For the compounds we are interested in, we can broadly separate them into two categories - volatile compounds and polymers. (It's a lot more complex than this but these are the two important classes). * Volatile compounds like [diacetyl]( URL_2 ), [Hydroxymethylfurfural]( URL_1 ) etc. are released which gives caramel its characteristic smell/flavour. * The polymers (30+ carbon atoms/molecule) formed are grouped into three classes: Caramelans, Caramelens and Caramelins. They contribute to the brown colour of caramel. Clearing out some misconceptions 1. Caramelization is not the same as the Maillard reaction (browning of bread, meat etc). *The Maillard reaction requires amino acids to react with sugars, whereas caramelization does not* (it is simply the degradation of sugars with heat). They both involve browning and can occur simultaneously, on the same food base, and with similar results on the taste buds, so they are quite easily confused. 2. It is not brown because of carbon. That sort of burning requires a much higher temperature than the caramelization reaction. If you try to caramelize on too high a flame, you will see it turning black and tasting charred. That is carbon (see pyrolysis/carbonization for such reactions).\",\n",
       "  \"It's worth mentioning that it is possible to melt sugar with it remaining clear, but it is difficult because it so readily burns.\",\n",
       "  'I had a lab report due on the Maillard reaction at 11:59. It’s because of what everyone else said. Monosaccharide sugars respond quicker than di/poly- saccharides and the reaction increases speed with increased temperature and or increased pH to make it more a more aqueous or basic environment. It’s a non enzymatic browning reaction that occurs between a reducing sugar and an amino acid with heating/ etc. ketones work better than aldoses because they are more inclined to release positive aromatic compounds while aldoses such as Xylose release compounds that smell like dirty socks.',\n",
       "  \"A lot of whack answers in here and misinformation. First off, it has nothing to do with the Maillard reaction so ignore all those. ELI5: Think of sugar like a pyramid of Lego bricks, you start heating them up in a frying pan and start by breaking them into single bricks, this is your melted sugar. As you keep heating, your going to start melting some of your bricks that are touching the frying pan. Clearly these melted Lego bricks aren't going fit back together, maybe you can get a few together but you can't stack them like you could before and some of them might start melting together, these are your browning products and flavors in your sugar (caramelisation). If you keep heating your eventually going to burn your Lego, turning it black (pyrolysis).\",\n",
       "  \"Don't all things go brown/golden when heated.. Then black when they burn..?\",\n",
       "  'Sugar is part of a type of molecules known as carbohydrates. At a very simplistic level carbohydrates are carbon atoms with waters around them with the generic formula (CH2O)x. For sugar x is 12 but that is not important. What is important is that if you heat sugar enough, you eliminate water molecules (think of it as boiling) and you are left with just carbon atoms (basically coal). Between coal and sugar, there are various levels of dehydration, so you go from colorless/white to black. In between you have yellow and brown, depending on how much dehydration you did.',\n",
       "  \"As others have said there are some reactions that occur to make it brown, however there are many compounds that I work with which are nice white crystals when solids but are yellow or brown oils when liquids so a change in color doesn't necessarily mean a chemical reaction.\"],\n",
       " 'answers.score': [3279, 174, 98, 23, 13, 8, 4, 3],\n",
       " 'answers.text_urls': [[],\n",
       "  ['https://en.wikipedia.org/wiki/Caramelization',\n",
       "   'https://en.wikipedia.org/wiki/Hydroxymethylfurfural',\n",
       "   'https://en.wikipedia.org/wiki/Diacetyl'],\n",
       "  [],\n",
       "  [],\n",
       "  [],\n",
       "  [],\n",
       "  [],\n",
       "  []],\n",
       " 'title_urls': ['url'],\n",
       " 'selftext_urls': ['url']}"
      ]
     },
     "execution_count": 5,
     "metadata": {},
     "output_type": "execute_result"
    }
   ],
   "source": [
    "eli5 = eli5.flatten()\n",
    "eli5[\"train\"][0]"
   ]
  },
  {
   "cell_type": "code",
   "execution_count": 6,
   "metadata": {},
   "outputs": [
    {
     "data": {
      "application/vnd.jupyter.widget-view+json": {
       "model_id": "40eee75644d7488b9ab54b780ad77001",
       "version_major": 2,
       "version_minor": 0
      },
      "text/plain": [
       "Map (num_proc=4):   0%|          | 0/4000 [00:00<?, ? examples/s]"
      ]
     },
     "metadata": {},
     "output_type": "display_data"
    },
    {
     "name": "stderr",
     "output_type": "stream",
     "text": [
      "Token indices sequence length is longer than the specified maximum sequence length for this model (1273 > 1024). Running this sequence through the model will result in indexing errors\n",
      "Token indices sequence length is longer than the specified maximum sequence length for this model (1028 > 1024). Running this sequence through the model will result in indexing errors\n",
      "Token indices sequence length is longer than the specified maximum sequence length for this model (1310 > 1024). Running this sequence through the model will result in indexing errors\n",
      "Token indices sequence length is longer than the specified maximum sequence length for this model (1446 > 1024). Running this sequence through the model will result in indexing errors\n"
     ]
    },
    {
     "data": {
      "application/vnd.jupyter.widget-view+json": {
       "model_id": "e3d42b3477aa4e6296a2ed7584191d7f",
       "version_major": 2,
       "version_minor": 0
      },
      "text/plain": [
       "Map (num_proc=4):   0%|          | 0/1000 [00:00<?, ? examples/s]"
      ]
     },
     "metadata": {},
     "output_type": "display_data"
    },
    {
     "name": "stderr",
     "output_type": "stream",
     "text": [
      "Token indices sequence length is longer than the specified maximum sequence length for this model (1305 > 1024). Running this sequence through the model will result in indexing errors\n",
      "Token indices sequence length is longer than the specified maximum sequence length for this model (1146 > 1024). Running this sequence through the model will result in indexing errors\n",
      "Token indices sequence length is longer than the specified maximum sequence length for this model (2170 > 1024). Running this sequence through the model will result in indexing errors\n",
      "Token indices sequence length is longer than the specified maximum sequence length for this model (5260 > 1024). Running this sequence through the model will result in indexing errors\n"
     ]
    },
    {
     "data": {
      "text/plain": [
       "DatasetDict({\n",
       "    train: Dataset({\n",
       "        features: ['input_ids', 'attention_mask'],\n",
       "        num_rows: 4000\n",
       "    })\n",
       "    test: Dataset({\n",
       "        features: ['input_ids', 'attention_mask'],\n",
       "        num_rows: 1000\n",
       "    })\n",
       "})"
      ]
     },
     "execution_count": 6,
     "metadata": {},
     "output_type": "execute_result"
    }
   ],
   "source": [
    "def preprocess_function(examples):\n",
    "    return tokenizer([\" \".join(x) for x in examples[\"answers.text\"]])\n",
    "\n",
    "tokenized_eli5 = eli5.map(\n",
    "    preprocess_function,\n",
    "    batched=True,\n",
    "    num_proc=4,\n",
    "    remove_columns=eli5[\"train\"].column_names,\n",
    ")\n",
    "\n",
    "tokenized_eli5"
   ]
  },
  {
   "cell_type": "code",
   "execution_count": 7,
   "metadata": {},
   "outputs": [],
   "source": [
    "block_size = 128\n",
    "\n",
    "\n",
    "def group_texts(examples):\n",
    "    # Concatenate all texts.\n",
    "    concatenated_examples = {k: sum(examples[k], []) for k in examples.keys()}\n",
    "    total_length = len(concatenated_examples[list(examples.keys())[0]])\n",
    "    # We drop the small remainder, we could add padding if the model supported it instead of this drop, you can\n",
    "    # customize this part to your needs.\n",
    "    if total_length >= block_size:\n",
    "        total_length = (total_length // block_size) * block_size\n",
    "    # Split by chunks of block_size.\n",
    "    result = {\n",
    "        k: [t[i : i + block_size] for i in range(0, total_length, block_size)]\n",
    "        for k, t in concatenated_examples.items()\n",
    "    }\n",
    "    result[\"labels\"] = result[\"input_ids\"].copy()\n",
    "    return result"
   ]
  },
  {
   "cell_type": "code",
   "execution_count": 8,
   "metadata": {},
   "outputs": [
    {
     "data": {
      "application/vnd.jupyter.widget-view+json": {
       "model_id": "e63f1b7ba73f4513aabd1dcd23c7d2d6",
       "version_major": 2,
       "version_minor": 0
      },
      "text/plain": [
       "Map (num_proc=4):   0%|          | 0/4000 [00:00<?, ? examples/s]"
      ]
     },
     "metadata": {},
     "output_type": "display_data"
    },
    {
     "data": {
      "application/vnd.jupyter.widget-view+json": {
       "model_id": "db996e8af8da4c25998fa8cefb32b728",
       "version_major": 2,
       "version_minor": 0
      },
      "text/plain": [
       "Map (num_proc=4):   0%|          | 0/1000 [00:00<?, ? examples/s]"
      ]
     },
     "metadata": {},
     "output_type": "display_data"
    },
    {
     "data": {
      "text/plain": [
       "DatasetDict({\n",
       "    train: Dataset({\n",
       "        features: ['input_ids', 'attention_mask', 'labels'],\n",
       "        num_rows: 10711\n",
       "    })\n",
       "    test: Dataset({\n",
       "        features: ['input_ids', 'attention_mask', 'labels'],\n",
       "        num_rows: 2371\n",
       "    })\n",
       "})"
      ]
     },
     "execution_count": 8,
     "metadata": {},
     "output_type": "execute_result"
    }
   ],
   "source": [
    "lm_dataset = tokenized_eli5.map(group_texts, batched=True, num_proc=4)\n",
    "lm_dataset"
   ]
  },
  {
   "cell_type": "code",
   "execution_count": 9,
   "metadata": {},
   "outputs": [],
   "source": [
    "from transformers import DataCollatorForLanguageModeling\n",
    "\n",
    "tokenizer.pad_token = tokenizer.eos_token\n",
    "data_collator = DataCollatorForLanguageModeling(tokenizer=tokenizer, mlm=False)"
   ]
  },
  {
   "cell_type": "code",
   "execution_count": 10,
   "metadata": {},
   "outputs": [
    {
     "data": {
      "text/plain": [
       "GPT2LMHeadModel(\n",
       "  (transformer): GPT2Model(\n",
       "    (wte): Embedding(50257, 768)\n",
       "    (wpe): Embedding(1024, 768)\n",
       "    (drop): Dropout(p=0.1, inplace=False)\n",
       "    (h): ModuleList(\n",
       "      (0-5): 6 x GPT2Block(\n",
       "        (ln_1): LayerNorm((768,), eps=1e-05, elementwise_affine=True)\n",
       "        (attn): GPT2Attention(\n",
       "          (c_attn): Conv1D(nf=2304, nx=768)\n",
       "          (c_proj): Conv1D(nf=768, nx=768)\n",
       "          (attn_dropout): Dropout(p=0.1, inplace=False)\n",
       "          (resid_dropout): Dropout(p=0.1, inplace=False)\n",
       "        )\n",
       "        (ln_2): LayerNorm((768,), eps=1e-05, elementwise_affine=True)\n",
       "        (mlp): GPT2MLP(\n",
       "          (c_fc): Conv1D(nf=3072, nx=768)\n",
       "          (c_proj): Conv1D(nf=768, nx=3072)\n",
       "          (act): NewGELUActivation()\n",
       "          (dropout): Dropout(p=0.1, inplace=False)\n",
       "        )\n",
       "      )\n",
       "    )\n",
       "    (ln_f): LayerNorm((768,), eps=1e-05, elementwise_affine=True)\n",
       "  )\n",
       "  (lm_head): Linear(in_features=768, out_features=50257, bias=False)\n",
       ")"
      ]
     },
     "execution_count": 10,
     "metadata": {},
     "output_type": "execute_result"
    }
   ],
   "source": [
    "from transformers import AutoModelForCausalLM, TrainingArguments, Trainer\n",
    "\n",
    "model = AutoModelForCausalLM.from_pretrained(\"distilbert/distilgpt2\")\n",
    "model"
   ]
  },
  {
   "cell_type": "code",
   "execution_count": 11,
   "metadata": {},
   "outputs": [
    {
     "name": "stderr",
     "output_type": "stream",
     "text": [
      "/tmp/ipykernel_28771/4176279854.py:9: FutureWarning: `tokenizer` is deprecated and will be removed in version 5.0.0 for `Trainer.__init__`. Use `processing_class` instead.\n",
      "  trainer = Trainer(\n",
      "The tokenizer has new PAD/BOS/EOS tokens that differ from the model config and generation config. The model config and generation config were aligned accordingly, being updated with the tokenizer's values. Updated tokens: {'pad_token_id': 50256}.\n",
      "`loss_type=None` was set in the config but it is unrecognized. Using the default loss: `ForCausalLMLoss`.\n"
     ]
    },
    {
     "data": {
      "text/html": [
       "\n",
       "    <div>\n",
       "      \n",
       "      <progress value='4017' max='4017' style='width:300px; height:20px; vertical-align: middle;'></progress>\n",
       "      [4017/4017 13:46, Epoch 3/3]\n",
       "    </div>\n",
       "    <table border=\"1\" class=\"dataframe\">\n",
       "  <thead>\n",
       " <tr style=\"text-align: left;\">\n",
       "      <th>Epoch</th>\n",
       "      <th>Training Loss</th>\n",
       "      <th>Validation Loss</th>\n",
       "    </tr>\n",
       "  </thead>\n",
       "  <tbody>\n",
       "    <tr>\n",
       "      <td>1</td>\n",
       "      <td>3.913300</td>\n",
       "      <td>3.839984</td>\n",
       "    </tr>\n",
       "    <tr>\n",
       "      <td>2</td>\n",
       "      <td>3.819000</td>\n",
       "      <td>3.828200</td>\n",
       "    </tr>\n",
       "    <tr>\n",
       "      <td>3</td>\n",
       "      <td>3.784100</td>\n",
       "      <td>3.827630</td>\n",
       "    </tr>\n",
       "  </tbody>\n",
       "</table><p>"
      ],
      "text/plain": [
       "<IPython.core.display.HTML object>"
      ]
     },
     "metadata": {},
     "output_type": "display_data"
    },
    {
     "data": {
      "text/plain": [
       "TrainOutput(global_step=4017, training_loss=3.843944111777266, metrics={'train_runtime': 827.4079, 'train_samples_per_second': 38.836, 'train_steps_per_second': 4.855, 'total_flos': 1049531060846592.0, 'train_loss': 3.843944111777266, 'epoch': 3.0})"
      ]
     },
     "execution_count": 11,
     "metadata": {},
     "output_type": "execute_result"
    }
   ],
   "source": [
    "training_args = TrainingArguments(\n",
    "    output_dir=\"my_awesome_eli5_clm-model\",\n",
    "    eval_strategy=\"epoch\",\n",
    "    learning_rate=2e-5,\n",
    "    weight_decay=0.01,\n",
    "    push_to_hub=True,\n",
    ")\n",
    "\n",
    "trainer = Trainer(\n",
    "    model=model,\n",
    "    args=training_args,\n",
    "    train_dataset=lm_dataset[\"train\"],\n",
    "    eval_dataset=lm_dataset[\"test\"],\n",
    "    data_collator=data_collator,\n",
    "    tokenizer=tokenizer,\n",
    ")\n",
    "\n",
    "trainer.train()"
   ]
  },
  {
   "cell_type": "code",
   "execution_count": 12,
   "metadata": {},
   "outputs": [
    {
     "data": {
      "text/html": [
       "\n",
       "    <div>\n",
       "      \n",
       "      <progress value='297' max='297' style='width:300px; height:20px; vertical-align: middle;'></progress>\n",
       "      [297/297 00:12]\n",
       "    </div>\n",
       "    "
      ],
      "text/plain": [
       "<IPython.core.display.HTML object>"
      ]
     },
     "metadata": {},
     "output_type": "display_data"
    },
    {
     "name": "stdout",
     "output_type": "stream",
     "text": [
      "Perplexity: 45.95\n"
     ]
    }
   ],
   "source": [
    "import math\n",
    "\n",
    "eval_results = trainer.evaluate()\n",
    "print(f\"Perplexity: {math.exp(eval_results['eval_loss']):.2f}\")"
   ]
  },
  {
   "cell_type": "code",
   "execution_count": 15,
   "metadata": {},
   "outputs": [
    {
     "data": {
      "application/vnd.jupyter.widget-view+json": {
       "model_id": "11484c2f34ec4987860bc7ef97ddc5d9",
       "version_major": 2,
       "version_minor": 0
      },
      "text/plain": [
       "Processing Files (0 / 0)                : |          |  0.00B /  0.00B            "
      ]
     },
     "metadata": {},
     "output_type": "display_data"
    },
    {
     "data": {
      "application/vnd.jupyter.widget-view+json": {
       "model_id": "ee4901b7b1aa488abf3a6bbd20fe21ae",
       "version_major": 2,
       "version_minor": 0
      },
      "text/plain": [
       "New Data Upload                         : |          |  0.00B /  0.00B            "
      ]
     },
     "metadata": {},
     "output_type": "display_data"
    },
    {
     "data": {
      "application/vnd.jupyter.widget-view+json": {
       "model_id": "4d25b9c44a094151b230e83520137670",
       "version_major": 2,
       "version_minor": 0
      },
      "text/plain": [
       "  ...me_eli5_clm-model/training_args.bin: 100%|##########| 5.78kB / 5.78kB            "
      ]
     },
     "metadata": {},
     "output_type": "display_data"
    },
    {
     "data": {
      "application/vnd.jupyter.widget-view+json": {
       "model_id": "1a892319255b4f20821ec90dab96f8f8",
       "version_major": 2,
       "version_minor": 0
      },
      "text/plain": [
       "  ...me_eli5_clm-model/model.safetensors:   0%|          |  549kB /  328MB            "
      ]
     },
     "metadata": {},
     "output_type": "display_data"
    },
    {
     "data": {
      "text/plain": [
       "CommitInfo(commit_url='https://huggingface.co/barbosarafael/my_awesome_eli5_clm-model/commit/07193a1b0fc9b490bf8bb165d6b6c921b8eebbe7', commit_message='End of training', commit_description='', oid='07193a1b0fc9b490bf8bb165d6b6c921b8eebbe7', pr_url=None, repo_url=RepoUrl('https://huggingface.co/barbosarafael/my_awesome_eli5_clm-model', endpoint='https://huggingface.co', repo_type='model', repo_id='barbosarafael/my_awesome_eli5_clm-model'), pr_revision=None, pr_num=None)"
      ]
     },
     "execution_count": 15,
     "metadata": {},
     "output_type": "execute_result"
    }
   ],
   "source": [
    "trainer.push_to_hub()"
   ]
  },
  {
   "cell_type": "code",
   "execution_count": 16,
   "metadata": {},
   "outputs": [
    {
     "data": {
      "application/vnd.jupyter.widget-view+json": {
       "model_id": "fb74d727620f4919b03300345b3cc130",
       "version_major": 2,
       "version_minor": 0
      },
      "text/plain": [
       "config.json:   0%|          | 0.00/996 [00:00<?, ?B/s]"
      ]
     },
     "metadata": {},
     "output_type": "display_data"
    },
    {
     "data": {
      "application/vnd.jupyter.widget-view+json": {
       "model_id": "9980e9a7605d484c87cf654845acc9d0",
       "version_major": 2,
       "version_minor": 0
      },
      "text/plain": [
       "model.safetensors:   0%|          | 0.00/328M [00:00<?, ?B/s]"
      ]
     },
     "metadata": {},
     "output_type": "display_data"
    },
    {
     "data": {
      "application/vnd.jupyter.widget-view+json": {
       "model_id": "59b0ce76a87b4902a029af9f412142a9",
       "version_major": 2,
       "version_minor": 0
      },
      "text/plain": [
       "generation_config.json:   0%|          | 0.00/154 [00:00<?, ?B/s]"
      ]
     },
     "metadata": {},
     "output_type": "display_data"
    },
    {
     "data": {
      "application/vnd.jupyter.widget-view+json": {
       "model_id": "5a86a4adf09f4c3cb6807151d61284f6",
       "version_major": 2,
       "version_minor": 0
      },
      "text/plain": [
       "tokenizer_config.json:   0%|          | 0.00/507 [00:00<?, ?B/s]"
      ]
     },
     "metadata": {},
     "output_type": "display_data"
    },
    {
     "data": {
      "application/vnd.jupyter.widget-view+json": {
       "model_id": "ae2ba41f721848d0b263b3580fc650a4",
       "version_major": 2,
       "version_minor": 0
      },
      "text/plain": [
       "vocab.json: 0.00B [00:00, ?B/s]"
      ]
     },
     "metadata": {},
     "output_type": "display_data"
    },
    {
     "data": {
      "application/vnd.jupyter.widget-view+json": {
       "model_id": "9c2b9c537642488fa21ae5308f59061f",
       "version_major": 2,
       "version_minor": 0
      },
      "text/plain": [
       "merges.txt: 0.00B [00:00, ?B/s]"
      ]
     },
     "metadata": {},
     "output_type": "display_data"
    },
    {
     "data": {
      "application/vnd.jupyter.widget-view+json": {
       "model_id": "51b5ba0a16e542b1ba13eae1cf085953",
       "version_major": 2,
       "version_minor": 0
      },
      "text/plain": [
       "tokenizer.json: 0.00B [00:00, ?B/s]"
      ]
     },
     "metadata": {},
     "output_type": "display_data"
    },
    {
     "data": {
      "application/vnd.jupyter.widget-view+json": {
       "model_id": "9888cf4ec2fe4c60b226c99cbae5f366",
       "version_major": 2,
       "version_minor": 0
      },
      "text/plain": [
       "special_tokens_map.json:   0%|          | 0.00/131 [00:00<?, ?B/s]"
      ]
     },
     "metadata": {},
     "output_type": "display_data"
    },
    {
     "name": "stderr",
     "output_type": "stream",
     "text": [
      "Device set to use cuda:0\n"
     ]
    },
    {
     "data": {
      "text/plain": [
       "[{'generated_text': 'Somatic hypermutation allows the immune system to absorb more and more of the damage it can cause. If your immune system were to break down, the immune system would have to \"decompend\" you because it would start to scratch, which would actually cause the immune system to stop responding. If you\\'re not taking medication, or even getting your blood work, then your body will stop responding. Edit: I\\'m not sure if my body realizes that I\\'m suffering from a certain type of autoimmune disorder. I\\'m also not sure if I\\'m becoming paranoid, or just paranoid. There are other disorders that I am not sure about. Edit: I am a bit of an expert on the immune system, so I\\'m not sure if I\\'m a doctor, but I have seen some patients with certain types of autoimmune disorders. Edit: I also am not sure if there\\'s a lot of people with different types of autoimmune diseases who have different symptoms, as well as those who have different symptoms. Edit: I\\'m not sure if I\\'m going to get to see a doctor for a while and I can\\'t really tell. Edit: I was a bit of a doctor in college, and I am not sure if I\\'m going to get to see a doctor for a while. Edit: I\\'m not sure if I'}]"
      ]
     },
     "execution_count": 16,
     "metadata": {},
     "output_type": "execute_result"
    }
   ],
   "source": [
    "from transformers import pipeline\n",
    "\n",
    "prompt = \"Somatic hypermutation allows the immune system to\"\n",
    "\n",
    "generator = pipeline(\"text-generation\", model=\"barbosarafael/my_awesome_eli5_clm-model\")\n",
    "generator(prompt)"
   ]
  },
  {
   "attachments": {
    "image.png": {
     "image/png": "[encoded data removed]"
    }
   },
   "cell_type": "markdown",
   "metadata": {},
   "source": [
    "# Transformer architectures\n",
    "\n",
    "## Modern Large Language Models\n",
    "\n",
    "- Decoder only architecture \n",
    "- Two steps \n",
    "  - Pretraining\n",
    "  - Instruction tuning: Fine tuned\n",
    "- Capability\n",
    "  - Text generation\n",
    "  - Summarization\n",
    "  - Translation\n",
    "  - Question answering \n",
    "  - Code generation\n",
    "  - Reasoning\n",
    "  - Few-shot learning \n",
    "\n",
    "## Sequence to sequence models\n",
    "\n",
    "- Encoder-decoder also called sequence-to-sequence\n",
    "- Application\n",
    "  - Machine translation\n",
    "  - Text summarization\n",
    "  - Data-to-text generation\n",
    "  - Grammar correction \n",
    "  - Question answering\n",
    "\n",
    "![image.png](attachment:image.png)\n"
   ]
  },
  {
   "cell_type": "markdown",
   "metadata": {},
   "source": [
    "\n",
    "# Inference with LLMs\n",
    "\n",
    "- Inference: is the process of using a trained LLM to generate human-like text from a given input prompt\n",
    "- Atention: model allows weight the most relevant words \n",
    "- Prompting: structure, context and formulation guide the bests answers \n",
    "\n",
    "## Inference process\n",
    "\n",
    "- Tokenization: convert text in tokens\n",
    "- Embedding: convert text in vectors with meaning\n",
    "\n",
    "## Decode\n",
    "\n",
    "- For each token generated, seen the others token behind \n",
    "- Calculate the probabilities (logit) for each possible token\n",
    "- Apply sample strategies to decide the next token \n",
    "- Verify if continues or stop\n",
    "\n",
    "## Generate strategy \n",
    "\n",
    "- Temperature: controls the aleatority of the choice's token \n",
    "- Top-k: the most likely words\n",
    "- Top-p: choice the token with certain probability \n",
    "- Penality / Frequency: penalize the word's repetition\n",
    "- Detection of sentence ending: control how many token generate\n",
    "\n",
    "## Challenges\n",
    "\n",
    "### Relevants\n",
    "\n",
    "- Time to First Token (TTFT)\n",
    "- Time Pert Output Token (TPOT)\n",
    "- Throughput \n",
    "- VRAM consumption"
   ]
  },
  {
   "cell_type": "markdown",
   "metadata": {},
   "source": [
    "# Bias and Limitations"
   ]
  },
  {
   "cell_type": "code",
   "execution_count": null,
   "metadata": {},
   "outputs": [
    {
     "name": "stderr",
     "output_type": "stream",
     "text": [
      "Some weights of the model checkpoint at bert-base-uncased were not used when initializing BertForMaskedLM: ['bert.pooler.dense.bias', 'bert.pooler.dense.weight', 'cls.seq_relationship.bias', 'cls.seq_relationship.weight']\n",
      "- This IS expected if you are initializing BertForMaskedLM from the checkpoint of a model trained on another task or with another architecture (e.g. initializing a BertForSequenceClassification model from a BertForPreTraining model).\n",
      "- This IS NOT expected if you are initializing BertForMaskedLM from the checkpoint of a model that you expect to be exactly identical (initializing a BertForSequenceClassification model from a BertForSequenceClassification model).\n"
     ]
    }
   ],
   "source": [
    "from transformers import pipeline\n",
    "\n",
    "unmasker = pipeline(\"fill-mask\", model=\"bert-base-uncased\")\n",
    "result = unmasker(\"This man works as a [MASK].\")\n",
    "print([r[\"token_str\"] for r in result])"
   ]
  },
  {
   "cell_type": "code",
   "execution_count": null,
   "metadata": {},
   "outputs": [],
   "source": [
    "result = unmasker(\"This woman works as a [MASK].\")\n",
    "print([r[\"token_str\"] for r in result])"
   ]
  },
  {
   "cell_type": "code",
   "execution_count": null,
   "metadata": {},
   "outputs": [],
   "source": []
  }
 ],
 "metadata": {
  "kernelspec": {
   "display_name": "venv",
   "language": "python",
   "name": "python3"
  },
  "language_info": {
   "codemirror_mode": {
    "name": "ipython",
    "version": 3
   },
   "file_extension": ".py",
   "mimetype": "text/x-python",
   "name": "python",
   "nbconvert_exporter": "python",
   "pygments_lexer": "ipython3",
   "version": "3.10.12"
  }
 },
 "nbformat": 4,
 "nbformat_minor": 2
}
